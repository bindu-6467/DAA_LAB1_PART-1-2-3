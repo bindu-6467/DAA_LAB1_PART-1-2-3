{
 "cells": [
  {
   "cell_type": "code",
   "execution_count": 1,
   "id": "6f703209-65d0-4fa8-8eef-37d7b5f70b64",
   "metadata": {},
   "outputs": [
    {
     "data": {
      "image/png": "[encoded data removed]",
      "text/plain": [
       "<Figure size 640x480 with 1 Axes>"
      ]
     },
     "metadata": {},
     "output_type": "display_data"
    }
   ],
   "source": [
    "import time\n",
    "import random\n",
    "import matplotlib.pyplot as plt\n",
    "def generate_random_numbers(size):\n",
    "    return [random.randint(1, 10000) for _ in range(size)]\n",
    "# Bubble Sort\n",
    "def bubble_sort(arr):\n",
    "    n = len(arr)\n",
    "    for i in range(n):\n",
    "        for j in range(0, n-i-1):\n",
    "            if arr[j] > arr[j+1]:\n",
    "                arr[j], arr[j+1] = arr[j+1], arr[j]\n",
    "# Selection Sort\n",
    "def selection_sort(arr):\n",
    "    n = len(arr)\n",
    "    for i in range(n):\n",
    "        min_idx = i\n",
    "        for j in range(i+1, n):\n",
    "            if arr[j] < arr[min_idx]:\n",
    "                min_idx = j\n",
    "        arr[i], arr[min_idx] = arr[min_idx], arr[i]\n",
    "# Insertion Sort\n",
    "def insertion_sort(arr):\n",
    "    for i in range(1, len(arr)):\n",
    "        key = arr[i]\n",
    "        j = i-1\n",
    "        while j >=0 and key < arr[j]:\n",
    "            arr[j+1] = arr[j]\n",
    "            j -= 1\n",
    "        arr[j+1] = key\n",
    "# Quick Sort\n",
    "def quick_sort(arr):\n",
    "    if len(arr) <= 1:\n",
    "        return arr\n",
    "    pivot = arr[len(arr)//2]\n",
    "    left = [x for x in arr if x < pivot]\n",
    "    middle = [x for x in arr if x == pivot]\n",
    "    right = [x for x in arr if x > pivot]\n",
    "    return quick_sort(left) + middle + quick_sort(right)\n",
    "# Function to measure execution time\n",
    "def measure_time(func, arr):\n",
    "    start_time = time.time()\n",
    "    func(arr)\n",
    "    end_time = time.time()\n",
    "    return end_time - start_time\n",
    "numbers = generate_random_numbers(1000)\n",
    "# Measure execution times for each sorting algorithm\n",
    "bubble_time = measure_time(bubble_sort, numbers.copy())\n",
    "selection_time = measure_time(selection_sort, numbers.copy())\n",
    "insertion_time = measure_time(insertion_sort, numbers.copy())\n",
    "quick_time = measure_time(quick_sort, numbers.copy())\n",
    "# Plotting the results\n",
    "labels = ['Bubble Sort', 'Selection Sort', 'Insertion Sort', 'Quick Sort']\n",
    "times = [bubble_time, selection_time, insertion_time, quick_time]\n",
    "plt.bar(labels, times)\n",
    "plt.xlabel('Sorting Algorithm')\n",
    "plt.ylabel('Execution Time (seconds)')\n",
    "plt.title('Execution Time of Sorting Algorithms')\n",
    "plt.show()\n"
   ]
  },
  {
   "cell_type": "code",
   "execution_count": 2,
   "id": "9cc51936-eb5e-43db-9885-39ea8a1b8b9e",
   "metadata": {},
   "outputs": [
    {
     "name": "stdout",
     "output_type": "stream",
     "text": [
      "10\n",
      "15\n",
      "20\n",
      "25\n",
      "27\n",
      "29\n",
      "30\n",
      "32\n",
      "33\n",
      "35\n",
      "37\n",
      "40\n",
      "48\n",
      "93\n"
     ]
    }
   ],
   "source": [
    "import heapq\n",
    "def merge_sorted_lists(sorted_lists):\n",
    "    heap = [(lst[0], i, 0) for i, lst in enumerate(sorted_lists)]\n",
    "    heapq.heapify(heap)\n",
    "\n",
    "    while heap:\n",
    "        value, list_index, index = heapq.heappop(heap)\n",
    "        print(value)\n",
    "\n",
    "        if index + 1 < len(sorted_lists[list_index]):\n",
    "            heapq.heappush(heap, (sorted_lists[list_index][index + 1], list_index, index + 1))\n",
    "sorted_lists = [\n",
    "    [10, 20, 30, 40],\n",
    "    [15, 25, 35],\n",
    "    [27, 29, 37, 48, 93],\n",
    "    [32, 33]\n",
    "]\n",
    "merge_sorted_lists(sorted_lists)"
   ]
  },
  {
   "cell_type": "code",
   "execution_count": 3,
   "id": "8d92d3d9-37ed-4f14-bd69-981b542f1c0a",
   "metadata": {},
   "outputs": [
    {
     "name": "stdout",
     "output_type": "stream",
     "text": [
      "K largest elements: [10, 15, 20]\n"
     ]
    }
   ],
   "source": [
    "import heapq\n",
    "def find_k_largest_elements(arr, k):\n",
    "    heap = arr[:k]\n",
    "    heapq.heapify(heap)\n",
    "    for num in arr[k:]:\n",
    "        if num > heap[0]:\n",
    "            heapq.heappop(heap)\n",
    "            heapq.heappush(heap, num)\n",
    "    return heap\n",
    "arr = [3, 10, 4, 7, 15, 20, 8]\n",
    "k = 3\n",
    "result = find_k_largest_elements(arr, k)\n",
    "print(\"K largest elements:\", result)\n"
   ]
  },
  {
   "cell_type": "code",
   "execution_count": null,
   "id": "66d9319e-aed7-499e-a52f-d47b6b5a26c0",
   "metadata": {},
   "outputs": [],
   "source": [
    "def maximum_activities(activity_list):\n",
    "    activity_list.sort(key=lambda x: x[1])\n",
    "    result = []\n",
    "    result.append(activity_list[0])\n",
    "\n",
    "    for i in range(1, len(activity_list)):\n",
    "        if activity_list[i][0] >= result[-1][1]:\n",
    "            result.append(activity_list[i])\n",
    "\n",
    "    return result\n",
    "\n",
    "activity_list = [(1, 4), (3, 5), (0, 6), (5, 7), (3, 8), (5, 9), (6, 10), (8, 11),\n",
    "                (8, 12), (2, 13), (12, 14)]\n",
    "\n",
    "print(\"Activities that can be performed by a single person are:\")\n",
    "print(maximum_activities(activity_list))"
   ]
  }
 ],
 "metadata": {
  "kernelspec": {
   "display_name": "Python 3 (ipykernel)",
   "language": "python",
   "name": "python3"
  },
  "language_info": {
   "codemirror_mode": {
    "name": "ipython",
    "version": 3
   },
   "file_extension": ".py",
   "mimetype": "text/x-python",
   "name": "python",
   "nbconvert_exporter": "python",
   "pygments_lexer": "ipython3",
   "version": "3.11.4"
  }
 },
 "nbformat": 4,
 "nbformat_minor": 5
}
