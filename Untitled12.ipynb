{
 "cells": [
  {
   "cell_type": "code",
   "execution_count": 1,
   "id": "266a3b5b-e2d9-4570-9aac-c4d031199d53",
   "metadata": {},
   "outputs": [
    {
     "name": "stdout",
     "output_type": "stream",
     "text": [
      "Pair with sum 10 in nums: [8, 2]\n",
      "Pair with sum 12 in nums: [7, 5]\n"
     ]
    }
   ],
   "source": [
    "from typing import List\n",
    "def find_pair_with_sum(nums: List[int], target: int) -> List[int]:\n",
    "    if len(nums) < 2:\n",
    "        return [\"Pair not found\"]\n",
    "    num_freq = {}\n",
    "    for num in nums:\n",
    "        num_freq[num] = num_freq.get(num, 0) + 1\n",
    "    for num in nums:\n",
    "        diff = target - num\n",
    "        if diff in num_freq and (num_freq[diff] > 0 or num != diff):\n",
    "            return [num, diff]\n",
    "    return [\"Pair not found\"]\n",
    "nums = [8, 7, 2, 5, 3, 1]\n",
    "target_1 = 10\n",
    "target_2 = 12\n",
    "print(f\"Pair with sum {target_1} in nums: {find_pair_with_sum(nums, target_1)}\")\n",
    "print(f\"Pair with sum {target_2} in nums: {find_pair_with_sum(nums, target_2)}\")"
   ]
  },
  {
   "cell_type": "code",
   "execution_count": 2,
   "id": "e702e3fe-8032-49a4-9846-c546353ebb5d",
   "metadata": {},
   "outputs": [
    {
     "name": "stdout",
     "output_type": "stream",
     "text": [
      "Maximum product pair: 72\n"
     ]
    }
   ],
   "source": [
    "def max_product_pair(arr):\n",
    "    if len(arr) < 2:\n",
    "        return \"Array should contain at least two elements\"\n",
    "    max_num = max(arr[0], arr[1])\n",
    "    second_max_num = min(arr[0], arr[1])\n",
    "    for i in range(2, len(arr)):\n",
    "        if arr[i] > max_num:\n",
    "            second_max_num = max_num\n",
    "            max_num = arr[i]\n",
    "        elif arr[i] > second_max_num:\n",
    "            second_max_num = arr[i]\n",
    "    return max_num * second_max_num\n",
    "# Example usage:\n",
    "arr = [1, 7, 4, 2, 8, 6, 3, 9, 5]\n",
    "result = max_product_pair(arr)\n",
    "print(\"Maximum product pair:\", result)\n"
   ]
  },
  {
   "cell_type": "code",
   "execution_count": 3,
   "id": "a3576663-d3ae-4525-b3ea-3db37b05fb59",
   "metadata": {},
   "outputs": [
    {
     "name": "stdout",
     "output_type": "stream",
     "text": [
      "[3, 6, 5, 7, 8, 9]\n",
      "[3, 5, 6, 7, 8, 9]\n",
      "[3, 5, 6, 7, 8, 9]\n"
     ]
    }
   ],
   "source": [
    "def sort_array_with_two_swaps(arr):\n",
    "    for i in range(len(arr) - 1):\n",
    "        if arr[i] > arr[i + 1]:\n",
    "            arr[i], arr[i + 1] = arr[i + 1], arr[i]\n",
    "    for i in range(1, len(arr)):\n",
    "        if arr[i] < arr[i - 1]:\n",
    "            arr[i], arr[i - 1] = arr[i - 1], arr[i]\n",
    "    return arr\n",
    "arr_1 = [3, 8, 6, 7, 5, 9]\n",
    "arr_2 = [3, 5, 6, 9, 8, 7]\n",
    "arr_3 = [3, 5, 7, 6, 8, 9]\n",
    "print(sort_array_with_two_swaps(arr_1))\n",
    "print(sort_array_with_two_swaps(arr_2))\n",
    "print(sort_array_with_two_swaps(arr_3))"
   ]
  },
  {
   "cell_type": "code",
   "execution_count": null,
   "id": "833ba3ca-a328-4c1d-94d9-cab861a3a392",
   "metadata": {},
   "outputs": [],
   "source": [
    "def segregate_zero_one(arr):\n",
    "    left = 0\n",
    "    right = 0\n",
    "\n",
    "    while right < len(arr):\n",
    "        if arr[right] == 0:\n",
    "            arr[left], arr[right] = arr[right], arr[left]\n",
    "            left += 1\n",
    "        right += 1\n",
    "\n",
    "    return arr\n",
    "\n",
    "arr = [0, 1, 0, 1, 0, 0, 1, 1, 1, 0]\n",
    "\n",
    "print(\"Array after segregating 0's and 1's:\")\n",
    "print(segregate_zero_one(arr))"
   ]
  }
 ],
 "metadata": {
  "kernelspec": {
   "display_name": "Python 3 (ipykernel)",
   "language": "python",
   "name": "python3"
  },
  "language_info": {
   "codemirror_mode": {
    "name": "ipython",
    "version": 3
   },
   "file_extension": ".py",
   "mimetype": "text/x-python",
   "name": "python",
   "nbconvert_exporter": "python",
   "pygments_lexer": "ipython3",
   "version": "3.11.4"
  }
 },
 "nbformat": 4,
 "nbformat_minor": 5
}
